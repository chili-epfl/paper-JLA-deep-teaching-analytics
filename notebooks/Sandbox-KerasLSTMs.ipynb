{
 "cells": [
  {
   "cell_type": "code",
   "execution_count": 1,
   "metadata": {
    "collapsed": false
   },
   "outputs": [
    {
     "name": "stderr",
     "output_type": "stream",
     "text": [
      "Using Theano backend.\n"
     ]
    }
   ],
   "source": [
    "import numpy\n",
    "import pandas\n",
    "from sklearn.cross_validation import cross_val_score\n",
    "from sklearn.preprocessing import LabelEncoder, label_binarize\n",
    "from sklearn.cross_validation import StratifiedKFold\n",
    "from sklearn.preprocessing import StandardScaler\n",
    "from sklearn.pipeline import Pipeline\n",
    "import matplotlib.pyplot as plt\n",
    "from sklearn import cross_validation\n",
    "from sklearn.metrics import classification_report\n",
    "from sklearn.metrics import confusion_matrix\n",
    "from sklearn.metrics import accuracy_score\n",
    "from sklearn.metrics import roc_auc_score, make_scorer, cohen_kappa_score, f1_score\n",
    "from sklearn.grid_search import GridSearchCV\n",
    "from sklearn.linear_model import LogisticRegression\n",
    "from sklearn.discriminant_analysis import LinearDiscriminantAnalysis\n",
    "from sklearn.naive_bayes import GaussianNB\n",
    "from sklearn.svm import SVC\n",
    "from sklearn.ensemble import GradientBoostingClassifier\n",
    "from sklearn.ensemble import RandomForestClassifier\n",
    "from math import ceil, sqrt\n",
    "from sklearn import decomposition\n",
    "from sklearn.decomposition import PCA\n",
    "from sklearn.feature_selection import SelectKBest\n",
    "from sklearn.feature_selection import chi2, f_classif\n",
    "from keras.models import Sequential\n",
    "from keras.layers import Dense\n",
    "from keras.wrappers.scikit_learn import KerasClassifier\n",
    "from keras.layers import Dropout\n",
    "from keras.layers import LSTM\n",
    "from keras.constraints import maxnorm\n",
    "from keras.optimizers import SGD\n",
    "from keras.models import model_from_json\n",
    "import numpy\n",
    "import os\n",
    "from keras.utils.np_utils import to_categorical\n"
   ]
  },
  {
   "cell_type": "code",
   "execution_count": 2,
   "metadata": {
    "collapsed": true
   },
   "outputs": [],
   "source": [
    "data = pandas.read_csv(\"../data/processed/train.csv\")\n",
    "notnull_data = data[data.notnull().all(axis=1)]\n",
    "train = notnull_data.values\n",
    "data2 = pandas.read_csv(\"../data/processed/test.csv\")\n",
    "notnull_data2 = data2[data2.notnull().all(axis=1)]\n",
    "test = notnull_data2.values"
   ]
  },
  {
   "cell_type": "code",
   "execution_count": 4,
   "metadata": {
    "collapsed": false
   },
   "outputs": [
    {
     "name": "stdout",
     "output_type": "stream",
     "text": [
      "Reducing dataset with PCA 100\n",
      "Total variance explained by %d components: 100\n",
      "0.630815671837\n"
     ]
    }
   ],
   "source": [
    "# Separate the target values (Activity and Social) from features, etc.\n",
    "X_train = train[:,3:7558].astype(float)\n",
    "Y_trainA = train[:,7558] #Activity\n",
    "Y_trainS = train[:,7559] #Social\n",
    "X_test = test[:,3:7558].astype(float)\n",
    "Y_testA = test[:,7558]\n",
    "Y_testS = test[:,7559]\n",
    "\n",
    "# encode class values as integers\n",
    "encoderA = LabelEncoder()\n",
    "encoderA.fit(Y_trainA)\n",
    "encoded_Y_trainA = encoderA.transform(Y_trainA)\n",
    "# convert integers to dummy variables (i.e. one hot encoded)\n",
    "dummy_y_trainA = to_categorical(encoded_Y_trainA)\n",
    "encoderA.fit(Y_testA)\n",
    "encoded_Y_testA = encoderA.transform(Y_testA)\n",
    "# convert integers to dummy variables (i.e. one hot encoded)\n",
    "dummy_y_testA = to_categorical(encoded_Y_testA)\n",
    "\n",
    "# encode class values as integers\n",
    "encoderS = LabelEncoder()\n",
    "encoderS.fit(Y_trainS)\n",
    "encoded_Y_trainS = encoderS.transform(Y_trainS)\n",
    "# convert integers to dummy variables (i.e. one hot encoded)\n",
    "dummy_y_trainS = to_categorical(encoded_Y_trainS)\n",
    "encoderS.fit(Y_testS)\n",
    "encoded_Y_testS = encoderS.transform(Y_testS)\n",
    "# convert integers to dummy variables (i.e. one hot encoded)\n",
    "dummy_y_testS = to_categorical(encoded_Y_testS)\n",
    "\n",
    "# We standardize on the basis of the training data\n",
    "scaler = StandardScaler().fit(X_train)\n",
    "X_train_st = scaler.transform(X_train)\n",
    "X_test_st = scaler.transform(X_test)\n",
    "\n",
    "# Number of components to extract from the dataset\n",
    "n_components = 100\n",
    "\n",
    "print 'Reducing dataset with PCA',n_components\n",
    "pca = decomposition.PCA(n_components=n_components)\n",
    "X_train_pca = pca.fit_transform(X_train_st)\n",
    "X_test_pca = pca.transform(X_test_st)\n",
    "\n",
    "#print 'Variance explained:'\n",
    "#print pca.explained_variance_ratio_\n",
    "print 'Total variance explained by %d components:',n_components\n",
    "print sum(pca.explained_variance_ratio_)\n",
    "\n",
    "trainX = numpy.reshape(X_train_pca, (X_train_pca.shape[0], 1, X_train_pca.shape[1]))\n",
    "testX = numpy.reshape(X_test_pca, (X_test_pca.shape[0], 1, X_test_pca.shape[1]))\n"
   ]
  },
  {
   "cell_type": "code",
   "execution_count": 15,
   "metadata": {
    "collapsed": false
   },
   "outputs": [
    {
     "name": "stdout",
     "output_type": "stream",
     "text": [
      "Loaded model from disk\n",
      "Accuracy:  0.654214559387\n",
      "Kappa:  0.530378417175\n",
      "F1 macro:  0.585092998165\n",
      "F1 weighted:  0.645157243566\n",
      "AUC:  0.830473534673\n"
     ]
    }
   ],
   "source": [
    "# Load pre-trained LSTM model\n",
    "json_file = open( 'model--3lstm.json' , 'r' )\n",
    "loaded_model_json = json_file.read()\n",
    "json_file.close()\n",
    "loaded_model = model_from_json(loaded_model_json)\n",
    "# load weights into new model\n",
    "loaded_model.load_weights(\"weights--3lstm--acc65--auc83.hdf5\")\n",
    "print(\"Loaded model from disk\")\n",
    "# evaluate loaded model on test data\n",
    "loaded_model.compile(loss= 'binary_crossentropy' , optimizer= 'adam' , metrics=[ 'accuracy' ])\n",
    "\n",
    "# Test it on validation dataset, and get the different performance metrics\n",
    "predictions = loaded_model.predict(testX, batch_size=1)\n",
    "print \"Accuracy: \",accuracy_score(numpy.argmax(dummy_y_testA, axis=1), numpy.argmax(predictions, axis=1))\n",
    "print \"Kappa: \",cohen_kappa_score(numpy.argmax(dummy_y_testA, axis=1), numpy.argmax(predictions, axis=1))\n",
    "print \"F1 macro: \",f1_score(numpy.argmax(dummy_y_testA, axis=1), numpy.argmax(predictions, axis=1), average='macro')\n",
    "print \"F1 weighted: \",f1_score(numpy.argmax(dummy_y_testA, axis=1), numpy.argmax(predictions, axis=1), average='weighted')\n",
    "print \"AUC: \",roc_auc_score(dummy_y_testA, predictions)\n"
   ]
  },
  {
   "cell_type": "code",
   "execution_count": null,
   "metadata": {
    "collapsed": true
   },
   "outputs": [],
   "source": []
  }
 ],
 "metadata": {
  "kernelspec": {
   "display_name": "Python 2",
   "language": "python",
   "name": "python2"
  },
  "language_info": {
   "codemirror_mode": {
    "name": "ipython",
    "version": 2
   },
   "file_extension": ".py",
   "mimetype": "text/x-python",
   "name": "python",
   "nbconvert_exporter": "python",
   "pygments_lexer": "ipython2",
   "version": "2.7.6"
  }
 },
 "nbformat": 4,
 "nbformat_minor": 1
}
