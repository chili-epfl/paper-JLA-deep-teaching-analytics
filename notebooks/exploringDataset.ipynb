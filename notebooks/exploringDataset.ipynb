{
 "cells": [
  {
   "cell_type": "markdown",
   "metadata": {},
   "source": [
    "# 1. Preparation\n",
    "\n",
    "## Load libraries"
   ]
  },
  {
   "cell_type": "code",
   "execution_count": 1,
   "metadata": {
    "collapsed": false
   },
   "outputs": [],
   "source": [
    "import numpy\n",
    "import pandas\n",
    "from sklearn.cross_validation import cross_val_score\n",
    "from sklearn.preprocessing import LabelEncoder, label_binarize\n",
    "from sklearn.cross_validation import StratifiedKFold\n",
    "from sklearn.preprocessing import StandardScaler\n",
    "from sklearn.pipeline import Pipeline\n",
    "import matplotlib.pyplot as plt\n",
    "from sklearn import cross_validation\n",
    "from sklearn.metrics import classification_report\n",
    "from sklearn.metrics import confusion_matrix\n",
    "from sklearn.metrics import accuracy_score\n",
    "from sklearn.metrics import roc_auc_score, make_scorer, f1_score\n",
    "from sklearn.grid_search import GridSearchCV\n",
    "from sklearn.linear_model import LogisticRegression\n",
    "from sklearn.naive_bayes import GaussianNB\n",
    "from sklearn.svm import SVC\n",
    "from sklearn.ensemble import GradientBoostingClassifier\n",
    "from sklearn.ensemble import RandomForestClassifier\n",
    "from math import ceil, sqrt\n",
    "from sklearn import decomposition\n",
    "from sklearn.decomposition import PCA\n",
    "from sklearn.feature_selection import SelectKBest\n",
    "from sklearn.feature_selection import chi2, f_classif\n",
    "import os.path\n",
    "import xgboost\n",
    "import tsne\n"
   ]
  },
  {
   "cell_type": "markdown",
   "metadata": {},
   "source": [
    "## Load dataset"
   ]
  },
  {
   "cell_type": "code",
   "execution_count": 2,
   "metadata": {
    "collapsed": false,
    "scrolled": false
   },
   "outputs": [
    {
     "name": "stdout",
     "output_type": "stream",
     "text": [
      "(5561, 7561)\n",
      "   Unnamed: 0                       session  timestamp  timestamp.orig  \\\n",
      "0         351  case1-day1-session1-teacher1       5000          100100   \n",
      "1           1  case1-day1-session1-teacher1      10000          105100   \n",
      "2         110  case1-day1-session1-teacher1      15000          110100   \n",
      "\n",
      "  Activity.win Social.win  value.Mean  value.SD  value.Fix  value.Sac  \\\n",
      "0          TDT        CLS    3.731296  0.610973          0   0.271604   \n",
      "1          TDT        CLS    3.623267  0.579418          0   0.294837   \n",
      "2          TDT        CLS    3.663333  0.578927          0   0.230081   \n",
      "\n",
      "   value.Fix.Dur  value.Fix.Disp  value.Sac.Dur  value.Sac.Amp  value.Sac.Len  \\\n",
      "0     155.517241      103.428029      77.047619      22.980952     210.109938   \n",
      "1     195.000000      140.122022      78.210526      25.407895     221.507133   \n",
      "2     193.250000      114.539547      75.232558      19.411628     171.338448   \n",
      "\n",
      "   value.Sac.Vel  value.X.Mean  value.X.SD  value.X.Max  value.X.Min      \n",
      "0       2.842520      1.968844    3.606027       13.810       -5.660 ...  \n",
      "1       2.896652      0.820018    4.076379       13.810       -9.864 ...  \n",
      "2       2.230033     -1.459000    2.536654       10.151       -9.864 ...  \n",
      "\n",
      "[3 rows x 7561 columns]\n",
      "...\n",
      "      Unnamed: 0                       session  timestamp  timestamp.orig  \\\n",
      "5558        5399  case2-day4-session2-teacher2    2815000         2843900   \n",
      "5559        5400  case2-day4-session2-teacher2    2820000         2848900   \n",
      "5560        5401  case2-day4-session2-teacher2    2825000         2853900   \n",
      "\n",
      "     Activity.win Social.win  value.Mean  value.SD  value.Fix  value.Sac  \\\n",
      "5558          NaN        NaN    2.938600  0.364288          0   0.129524   \n",
      "5559          NaN        NaN    2.775017  0.266534          0   0.127137   \n",
      "5560          NaN        NaN         NaN       NaN        NaN        NaN   \n",
      "\n",
      "      value.Fix.Dur  value.Fix.Disp  value.Sac.Dur  value.Sac.Amp  \\\n",
      "5558     179.870968       89.115134      93.666667      13.161111   \n",
      "5559     163.848485       64.801448      87.222222      11.288889   \n",
      "5560            NaN             NaN            NaN            NaN   \n",
      "\n",
      "      value.Sac.Len  value.Sac.Vel  value.X.Mean  value.X.SD  value.X.Max  \\\n",
      "5558     185.952369       1.938144      9.632364    0.629687       13.111   \n",
      "5559     145.475801       1.758783      9.574206    0.498873       13.111   \n",
      "5560            NaN            NaN           NaN         NaN          NaN   \n",
      "\n",
      "      value.X.Min      \n",
      "5558        8.351 ...  \n",
      "5559        8.351 ...  \n",
      "5560          NaN ...  \n",
      "\n",
      "[3 rows x 7561 columns]\n"
     ]
    }
   ],
   "source": [
    "if os.path.isfile(\"../data/processed/completeDataset.csv\"):\n",
    "    data = pandas.read_csv(\"../data/processed/completeDataset.csv\", sep=',', quotechar='\"')\n",
    "elif os.path.isfile(\"../data/processed/completeDataset.csv.gz\"):\n",
    "    data = pandas.read_csv(\"../data/processed/completeDataset.csv.gz\", compression='gzip', sep=',', quotechar='\"')\n",
    "else:\n",
    "    print(\"The dataset is not in ../data/processed !\")\n",
    "\n",
    "print data.shape\n",
    "print data.head(3)\n",
    "print \"...\"\n",
    "print data.tail(3)"
   ]
  },
  {
   "cell_type": "code",
   "execution_count": 3,
   "metadata": {
    "collapsed": false,
    "scrolled": false
   },
   "outputs": [
    {
     "name": "stderr",
     "output_type": "stream",
     "text": [
      "/usr/local/lib/python2.7/dist-packages/IPython/core/formatters.py:92: DeprecationWarning: DisplayFormatter._ipython_display_formatter_default is deprecated: use @default decorator instead.\n",
      "  def _ipython_display_formatter_default(self):\n",
      "/usr/local/lib/python2.7/dist-packages/IPython/core/formatters.py:98: DeprecationWarning: DisplayFormatter._formatters_default is deprecated: use @default decorator instead.\n",
      "  def _formatters_default(self):\n",
      "/usr/local/lib/python2.7/dist-packages/IPython/core/formatters.py:677: DeprecationWarning: PlainTextFormatter._deferred_printers_default is deprecated: use @default decorator instead.\n",
      "  def _deferred_printers_default(self):\n",
      "/usr/local/lib/python2.7/dist-packages/IPython/core/formatters.py:669: DeprecationWarning: PlainTextFormatter._singleton_printers_default is deprecated: use @default decorator instead.\n",
      "  def _singleton_printers_default(self):\n",
      "/usr/local/lib/python2.7/dist-packages/IPython/core/formatters.py:672: DeprecationWarning: PlainTextFormatter._type_printers_default is deprecated: use @default decorator instead.\n",
      "  def _type_printers_default(self):\n",
      "/usr/local/lib/python2.7/dist-packages/IPython/core/formatters.py:669: DeprecationWarning: PlainTextFormatter._singleton_printers_default is deprecated: use @default decorator instead.\n",
      "  def _singleton_printers_default(self):\n",
      "/usr/local/lib/python2.7/dist-packages/IPython/core/formatters.py:672: DeprecationWarning: PlainTextFormatter._type_printers_default is deprecated: use @default decorator instead.\n",
      "  def _type_printers_default(self):\n",
      "/usr/local/lib/python2.7/dist-packages/IPython/core/formatters.py:677: DeprecationWarning: PlainTextFormatter._deferred_printers_default is deprecated: use @default decorator instead.\n",
      "  def _deferred_printers_default(self):\n"
     ]
    },
    {
     "data": {
      "text/plain": [
       "(5561, 7563)"
      ]
     },
     "execution_count": 3,
     "metadata": {},
     "output_type": "execute_result"
    }
   ],
   "source": [
    "#Cleanup the data, like R's\n",
    "# We only look for predicting 4 states of activity and 3 of social, the rest (incl.NA) we bunch in 'Other'\n",
    "#fulldata$Activity.clean <- ifelse(is.na(as.character(fulldata$Activity.win)) | \n",
    "#                                      as.character(fulldata$Activity.win)=='OFF' |\n",
    "#                                      as.character(fulldata$Activity.win)=='TDT' |\n",
    "#                                      as.character(fulldata$Activity.win)=='TEC',\n",
    "#                                  'Other',as.character(fulldata$Activity.win))\n",
    "\n",
    "#fulldata$Social.clean <- ifelse(is.na(as.character(fulldata$Social.win)),\n",
    "#                                  'Other',as.character(fulldata$Social.win))\n",
    "\n",
    "\n",
    "#names(fulldata)[7562:7563] <- c('Activity','Social')\n",
    "#fulldata <- fulldata[,-c(1,4,5,6)]\n",
    "#fulldata$Activity <- factor(fulldata$Activity)\n",
    "#fulldata$Social <- factor(fulldata$Social)\n",
    "\n",
    "\n",
    "#test <- fulldata[fulldata$session=='case2-day3-session1-teacher2' | fulldata$session=='case1-day1-session1-teacher1',]\n",
    "#train <- fulldata[fulldata$session!='case2-day3-session1-teacher2' & fulldata$session!='case1-day1-session1-teacher1',]\n",
    "\n",
    "# Cleans up a vector of values, by assigning NaNs and others to a certain value\n",
    "def clean_values(x, others=[], value='Other'):\n",
    "    if pandas.isnull(x) or (x in others):\n",
    "        return value\n",
    "    else:\n",
    "        return x\n",
    "\n",
    "others = ['OFF','TDT','TEC']\n",
    "data['Activity.clean'] = data['Activity.win'].apply(clean_values, args=(others,))\n",
    "data['Social.clean'] = data['Social.win'].apply(clean_values)\n",
    "data.shape"
   ]
  },
  {
   "cell_type": "code",
   "execution_count": 4,
   "metadata": {
    "collapsed": false,
    "scrolled": true
   },
   "outputs": [],
   "source": [
    "# Drop the first meaningless column in the csv, plus the others we don't use anymore\n",
    "cleandata = data.drop(data.columns[[0]], axis=1)\n",
    "cleandata = cleandata.drop(['timestamp.orig', 'Activity.win', 'Social.win'], axis=1)\n",
    "cleandata.rename(index=str, columns={'Activity.clean': 'Activity', 'Social.clean': 'Social'}, inplace=True)\n",
    "\n",
    "#print cleandata.head(3)\n",
    "#print cleandata.columns[-2:].values"
   ]
  },
  {
   "cell_type": "markdown",
   "metadata": {
    "collapsed": true
   },
   "source": [
    "# Dataset overview\n",
    "\n",
    "Both the training and testing datasets have the following general structure:\n",
    "\n",
    "* ''Rows'' represent the features of each 10s window (overlapping/sliding 5s), ordered by `session` ID and its `timestamp` (in ms)\n",
    "\n",
    "* ''Columns'' are the features themselves (they have more-or-less-cryptic column names), up to 7559 of them!\n",
    "    * [,0]: ''session id''\n",
    "    * [,1]: ''timestamp'' within the session (in ms)\n",
    "    * [,2:11]: ''eyetracking'' features (mean/sd pupil diameter, nr. of long fixations, avg. saccade speed, fixation duration, fixation dispersion, saccade duration, saccade amplitude, saccade length, saccade velocity)\n",
    "    * [,12:151]: ''accelerometer'' features, including X, Y, Z (mean, sd, max, min, median, and 30 FFT coefficients of each of them) and jerk (mean, sd, max, min, median, and 30 FFT coefficients of each of it)\n",
    "    * [,152:6556]: ''audio'' features extracted from an audio snippet of the 10s window, using openSMILE. Includes features about whether there is someone speaking (153:163), emotion recognition models (164:184), and brute-force audio spectrum features and characteristics used in various audio recognition challenges/tasks (185:6557)\n",
    "    * [,6557:7556]: ''video'' features extracted from an image taken in the middle of the window (the 1000 values of the last layer when passing the immage through a VGG pre-trained model)\n",
    "    * [,7557:7558]: Activity and Social, the two orchestration graph dimensions we want to predict\n",
    "    "
   ]
  },
  {
   "cell_type": "code",
   "execution_count": 5,
   "metadata": {
    "collapsed": false
   },
   "outputs": [],
   "source": [
    "# Uncomment to get the actual column names\n",
    "# print cleandata.columns[0]\n",
    "# print cleandata.columns[1]\n",
    "# print cleandata.columns[2:12].values\n",
    "# print cleandata.columns[12:152].values\n",
    "# print cleandata.columns[152:6557].values\n",
    "# print cleandata.columns[6557:7557].values\n",
    "# print cleandata.columns[7557:].values\n",
    "\n",
    "# feature_names of X\n",
    "feature_names = cleandata.columns[2:7557]\n",
    "idx_eyetracking = range(0,10)\n",
    "idx_acc = range(10,150)\n",
    "idx_audio = range(150,6555)\n",
    "idx_video = range(6555,7555)\n",
    "#print feature_names[idx_audio].values"
   ]
  },
  {
   "cell_type": "markdown",
   "metadata": {},
   "source": [
    "## Basic split\n",
    "\n",
    "For now, we just leave out one session by teacher 2 (later, do a loop)"
   ]
  },
  {
   "cell_type": "code",
   "execution_count": 6,
   "metadata": {
    "collapsed": false,
    "scrolled": false
   },
   "outputs": [
    {
     "name": "stdout",
     "output_type": "stream",
     "text": [
      "(5065, 7559)\n",
      "(496, 7559)\n"
     ]
    }
   ],
   "source": [
    "sessions = cleandata['session'].unique()\n",
    "activities = cleandata['Activity'].unique()\n",
    "socials = cleandata['Social'].unique()\n",
    "label_encoderA = LabelEncoder()\n",
    "label_encoderA = label_encoderA.fit(cleandata['Activity'].values)\n",
    "label_encoderS = LabelEncoder()\n",
    "label_encoderS = label_encoderS.fit(cleandata['Social'].values)\n",
    "\n",
    "\n",
    "# for s in sessions: ...\n",
    "s = sessions[9]\n",
    "test = cleandata.loc[cleandata['session'] == s]\n",
    "train = cleandata.loc[cleandata['session'] != s]\n",
    "\n",
    "print train.shape\n",
    "print test.shape\n"
   ]
  },
  {
   "cell_type": "code",
   "execution_count": 7,
   "metadata": {
    "collapsed": false
   },
   "outputs": [
    {
     "name": "stdout",
     "output_type": "stream",
     "text": [
      "[[  3.73129568e+00   6.10972980e-01   0.00000000e+00   2.71603612e-01\n",
      "    1.55517241e+02   1.03428029e+02   7.70476190e+01   2.29809524e+01\n",
      "    2.10109938e+02   2.84252017e+00   1.96884431e+00   3.60602652e+00\n",
      "    1.38100004e+01  -5.65999985e+00   7.55999982e-01]\n",
      " [  3.62326667e+00   5.79418457e-01   0.00000000e+00   2.94837273e-01\n",
      "    1.95000000e+02   1.40122022e+02   7.82105263e+01   2.54078947e+01\n",
      "    2.21507133e+02   2.89665210e+00   8.20018070e-01   4.07637903e+00\n",
      "    1.38100004e+01  -9.86400032e+00   7.59999994e-02]\n",
      " [  3.66333333e+00   5.78927236e-01   0.00000000e+00   2.30080752e-01\n",
      "    1.93250000e+02   1.14539547e+02   7.52325581e+01   1.94116279e+01\n",
      "    1.71338448e+02   2.23003256e+00  -1.45900001e+00   2.53665438e+00\n",
      "    1.01510000e+01  -9.86400032e+00  -1.58450001e+00]\n",
      " [  3.42378738e+00   7.60500016e-01   0.00000000e+00   2.60190343e-01\n",
      "    1.60333333e+02   1.02295594e+02   7.67500000e+01   2.31625000e+01\n",
      "    1.72933977e+02   2.12088150e+00  -1.96377246e+00   1.44517212e+00\n",
      "    2.83400011e+00  -6.68400002e+00  -2.05900002e+00]\n",
      " [  2.98644518e+00   5.94602098e-01   0.00000000e+00   3.60908974e-01\n",
      "    1.25866667e+02   1.08804796e+02   8.04102564e+01   3.37589744e+01\n",
      "    2.33127601e+02   2.75841294e+00  -1.91071856e+00   1.06853026e+00\n",
      "    2.61400008e+00  -5.61199999e+00  -1.90499997e+00]]\n",
      "['Other' 'Other' 'Other' 'Other' 'EXP']\n"
     ]
    }
   ],
   "source": [
    "# Separate the target values (Activity and Social) from features, etc.\n",
    "X_train = train[feature_names].values\n",
    "Y_trainA = train['Activity'].values\n",
    "Y_trainS = train['Social'].values\n",
    "X_test = test[feature_names].values\n",
    "Y_testA = test['Activity'].values\n",
    "Y_testS = test['Social'].values\n",
    "print X_train[0:5,0:15]\n",
    "print Y_trainA[0:5]"
   ]
  },
  {
   "cell_type": "markdown",
   "metadata": {
    "collapsed": true
   },
   "source": [
    "# A basic benchmark: XGBoost\n",
    "\n",
    "How does XGBoost (a decision tree ensemble) perform on the whole dataset?\n",
    "\n",
    "## Teacher activity\n"
   ]
  },
  {
   "cell_type": "code",
   "execution_count": 11,
   "metadata": {
    "collapsed": false
   },
   "outputs": [
    {
     "name": "stdout",
     "output_type": "stream",
     "text": [
      "(5065, 7555)\n"
     ]
    }
   ],
   "source": [
    "# Model preparation and feature selection\n",
    "\n",
    "# Predicting Activity\n",
    "#X = X_train[:,idx_eyetracking]\n",
    "X = X_train\n",
    "Y = Y_trainA\n",
    "label_encoded_y = label_encoderA.transform(Y)\n",
    "Xval = X_test\n",
    "Yval = Y_testA\n",
    "print X.shape\n"
   ]
  },
  {
   "cell_type": "code",
   "execution_count": 12,
   "metadata": {
    "collapsed": false
   },
   "outputs": [
    {
     "name": "stdout",
     "output_type": "stream",
     "text": [
      "XGBClassifier(base_score=0.5, colsample_bylevel=1, colsample_bytree=1,\n",
      "       gamma=0, learning_rate=0.1, max_delta_step=0, max_depth=3,\n",
      "       min_child_weight=1, missing=None, n_estimators=100, nthread=-1,\n",
      "       objective=multi:softprob, reg_alpha=0, reg_lambda=1,\n",
      "       scale_pos_weight=1, seed=0, silent=True, subsample=1)\n"
     ]
    }
   ],
   "source": [
    "# Model training\n",
    "model = xgboost.XGBClassifier()\n",
    "model.fit(X, label_encoded_y)\n",
    "print model"
   ]
  },
  {
   "cell_type": "code",
   "execution_count": 13,
   "metadata": {
    "collapsed": false
   },
   "outputs": [
    {
     "name": "stdout",
     "output_type": "stream",
     "text": [
      "             precision    recall  f1-score   support\n",
      "\n",
      "          0       0.73      0.65      0.68       172\n",
      "          1       0.63      0.39      0.48       169\n",
      "          2       0.19      0.59      0.29        73\n",
      "          3       0.00      0.00      0.00        36\n",
      "          4       0.50      0.11      0.18        46\n",
      "\n",
      "avg / total       0.54      0.45      0.46       496\n",
      "\n",
      "[[111  12  46   0   3]\n",
      " [  6  66  97   0   0]\n",
      " [ 17  11  43   0   2]\n",
      " [  4   3  29   0   0]\n",
      " [ 15  12  12   2   5]]\n",
      "Accuracy 0.453629 \n"
     ]
    },
    {
     "name": "stderr",
     "output_type": "stream",
     "text": [
      "/usr/lib/python2.7/dist-packages/sklearn/metrics/metrics.py:1905: UserWarning: The precision and recall are equal to zero for some labels. fbeta_score is ill defined for those labels [3]. \n",
      "  average=None)\n"
     ]
    }
   ],
   "source": [
    "# Model evaluation\n",
    "Ypred = model.predict(Xval)\n",
    "label_encoded_yval = label_encoderA.transform(Yval)\n",
    "print classification_report(label_encoded_yval, Ypred)\n",
    "print confusion_matrix(label_encoded_yval, Ypred)\n",
    "print \"Accuracy %f \" % accuracy_score(label_encoded_yval, Ypred)\n",
    "#print \"AUC %f \" % roc_auc_score(label_encoded_yval, Ypred, average='macro')\n",
    "#print \"Kappa %f \" % cohen_kappa_score(label_encoded_yval, Ypred, average='macro')\n",
    "#TODO: Install scikit learn 0.18+"
   ]
  },
  {
   "cell_type": "markdown",
   "metadata": {},
   "source": [
    "## Social plane"
   ]
  },
  {
   "cell_type": "code",
   "execution_count": 14,
   "metadata": {
    "collapsed": false
   },
   "outputs": [
    {
     "name": "stdout",
     "output_type": "stream",
     "text": [
      "(5065, 7555)\n"
     ]
    }
   ],
   "source": [
    "# Model preparation and feature selection\n",
    "\n",
    "# Predicting Activity\n",
    "#X = X_train[:,idx_eyetracking]\n",
    "X = X_train\n",
    "Y = Y_trainS\n",
    "label_encoded_y = label_encoderS.transform(Y)\n",
    "Xval = X_test\n",
    "Yval = Y_testS\n",
    "print X.shape\n"
   ]
  },
  {
   "cell_type": "code",
   "execution_count": 15,
   "metadata": {
    "collapsed": false
   },
   "outputs": [
    {
     "name": "stdout",
     "output_type": "stream",
     "text": [
      "XGBClassifier(base_score=0.5, colsample_bylevel=1, colsample_bytree=1,\n",
      "       gamma=0, learning_rate=0.1, max_delta_step=0, max_depth=3,\n",
      "       min_child_weight=1, missing=None, n_estimators=100, nthread=-1,\n",
      "       objective=multi:softprob, reg_alpha=0, reg_lambda=1,\n",
      "       scale_pos_weight=1, seed=0, silent=True, subsample=1)\n"
     ]
    }
   ],
   "source": [
    "# Model training\n",
    "model = xgboost.XGBClassifier()\n",
    "model.fit(X, label_encoded_y)\n",
    "print model"
   ]
  },
  {
   "cell_type": "code",
   "execution_count": 17,
   "metadata": {
    "collapsed": false
   },
   "outputs": [
    {
     "name": "stdout",
     "output_type": "stream",
     "text": [
      "             precision    recall  f1-score   support\n",
      "\n",
      "          0       0.87      0.87      0.87       396\n",
      "          1       0.33      0.04      0.07        48\n",
      "          2       0.10      0.27      0.15        11\n",
      "          3       0.22      0.37      0.28        41\n",
      "\n",
      "avg / total       0.75      0.73      0.73       496\n",
      "\n",
      "[[343   1  10  42]\n",
      " [ 29   2   7  10]\n",
      " [  5   2   3   1]\n",
      " [ 16   1   9  15]]\n",
      "Accuracy 0.731855 \n"
     ]
    }
   ],
   "source": [
    "# Model evaluation\n",
    "Ypred = model.predict(Xval)\n",
    "label_encoded_yval = label_encoderS.transform(Yval)\n",
    "print classification_report(label_encoded_yval, Ypred)\n",
    "print confusion_matrix(label_encoded_yval, Ypred)\n",
    "print \"Accuracy %f \" % accuracy_score(label_encoded_yval, Ypred)\n",
    "#print \"AUC %f \" % roc_auc_score(label_encoded_yval, Ypred, average='macro')\n",
    "#print \"Kappa %f \" % cohen_kappa_score(label_encoded_yval, Ypred, average='macro')\n",
    "#TODO: Install scikit learn 0.18+"
   ]
  },
  {
   "cell_type": "markdown",
   "metadata": {},
   "source": [
    "## Other splits are possible! (TODO: create a test harness that tries all of these on our best models)\n",
    "\n",
    "* General model -- Leave one teacher out: train on data for one teacher, test on data for another teacher (we only have two teachers!)\n",
    "* General model -- Leave one situation out: train on data for two teachers, but leave all the sessions for one kind of situation out\n",
    "* Personalized model -- Leave one session out: train on data for one teacher, but leave one session out\n",
    "* Personalized model -- Leave one situation out: train on data for one teacher, but leave one kind of situation out (can only be done with teacher 2)"
   ]
  }
 ],
 "metadata": {
  "kernelspec": {
   "display_name": "Python 2",
   "language": "python",
   "name": "python2"
  },
  "language_info": {
   "codemirror_mode": {
    "name": "ipython",
    "version": 2
   },
   "file_extension": ".py",
   "mimetype": "text/x-python",
   "name": "python",
   "nbconvert_exporter": "python",
   "pygments_lexer": "ipython2",
   "version": "2.7.6"
  }
 },
 "nbformat": 4,
 "nbformat_minor": 1
}
