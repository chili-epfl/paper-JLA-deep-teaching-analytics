{
 "cells": [
  {
   "cell_type": "markdown",
   "metadata": {},
   "source": [
    "# 1. Preparation\n",
    "\n",
    "## Load libraries"
   ]
  },
  {
   "cell_type": "code",
   "execution_count": 4,
   "metadata": {
    "collapsed": false
   },
   "outputs": [],
   "source": [
    "import numpy\n",
    "import pandas\n",
    "from sklearn.cross_validation import cross_val_score\n",
    "from sklearn.preprocessing import LabelEncoder, label_binarize\n",
    "from sklearn.cross_validation import StratifiedKFold\n",
    "from sklearn.preprocessing import StandardScaler\n",
    "from sklearn.pipeline import Pipeline\n",
    "import matplotlib.pyplot as plt\n",
    "from sklearn import cross_validation\n",
    "from sklearn.metrics import classification_report\n",
    "from sklearn.metrics import confusion_matrix\n",
    "from sklearn.metrics import accuracy_score\n",
    "from sklearn.metrics import roc_auc_score, make_scorer, f1_score\n",
    "from sklearn.grid_search import GridSearchCV\n",
    "from sklearn.linear_model import LogisticRegression\n",
    "from sklearn.naive_bayes import GaussianNB\n",
    "from sklearn.svm import SVC\n",
    "from sklearn.ensemble import GradientBoostingClassifier\n",
    "from sklearn.ensemble import RandomForestClassifier\n",
    "from math import ceil, sqrt\n",
    "from sklearn import decomposition\n",
    "from sklearn.decomposition import PCA\n",
    "from sklearn.feature_selection import SelectKBest\n",
    "from sklearn.feature_selection import chi2, f_classif\n",
    "\n"
   ]
  },
  {
   "cell_type": "markdown",
   "metadata": {},
   "source": [
    "## Load dataset"
   ]
  },
  {
   "cell_type": "code",
   "execution_count": 7,
   "metadata": {
    "collapsed": false
   },
   "outputs": [],
   "source": [
    "data = pandas.read_csv(\"../data/processed/completeDataset.csv.gz\", compression='gzip', header=True, sep=',', quotechar='\"')\n",
    "\n"
   ]
  },
  {
   "cell_type": "code",
   "execution_count": 12,
   "metadata": {
    "collapsed": false,
    "scrolled": true
   },
   "outputs": [
    {
     "data": {
      "text/plain": [
       "pandas.core.frame.DataFrame"
      ]
     },
     "execution_count": 12,
     "metadata": {},
     "output_type": "execute_result"
    }
   ],
   "source": [
    "type(data)\n"
   ]
  },
  {
   "cell_type": "markdown",
   "metadata": {},
   "source": [
    "## Basic split\n",
    "\n",
    "... we leave out, as test set, one session per teacher, with variety of states of Activity and Social. This will give us a (quite optimistic) estimate of how good a \"general model\" (that works across subjects) can be on data from a teacher it has seen, in a classroom situation that it has seen (as there are multiple sessions for each kind of classroom situation), but with different students"
   ]
  },
  {
   "cell_type": "code",
   "execution_count": null,
   "metadata": {
    "collapsed": true
   },
   "outputs": [],
   "source": [
    "# We only look for predicting 4 states of activity and 3 of social, the rest (incl.NA) we bunch in 'Other'\n",
    "#fulldata$Activity.clean <- ifelse(is.na(as.character(fulldata$Activity.win)) | \n",
    "#                                      as.character(fulldata$Activity.win)=='OFF' |\n",
    "#                                      as.character(fulldata$Activity.win)=='TDT' |\n",
    "#                                      as.character(fulldata$Activity.win)=='TEC',\n",
    "#                                  'Other',as.character(fulldata$Activity.win))\n",
    "\n",
    "#fulldata$Social.clean <- ifelse(is.na(as.character(fulldata$Social.win)),\n",
    "#                                  'Other',as.character(fulldata$Social.win))\n",
    "\n",
    "\n",
    "#names(fulldata)[7562:7563] <- c('Activity','Social')\n",
    "#fulldata <- fulldata[,-c(1,4,5,6)]\n",
    "#fulldata$Activity <- factor(fulldata$Activity)\n",
    "#fulldata$Social <- factor(fulldata$Social)\n",
    "\n",
    "\n",
    "#test <- fulldata[fulldata$session=='case2-day3-session1-teacher2' | fulldata$session=='case1-day1-session1-teacher1',]\n",
    "#train <- fulldata[fulldata$session!='case2-day3-session1-teacher2' & fulldata$session!='case1-day1-session1-teacher1',]\n",
    "\n",
    "\n",
    "notnull_data = data[data.notnull().all(axis=1)]\n",
    "train = notnull_data.values\n",
    "notnull_data2 = data2[data2.notnull().all(axis=1)]\n",
    "test = notnull_data2.values"
   ]
  },
  {
   "cell_type": "markdown",
   "metadata": {},
   "source": [
    "## Other splits are possible! (TODO: create a test harness that tries all of these on our best models)\n",
    "\n",
    "* General model -- Leave one teacher out: train on data for one teacher, test on data for another teacher (we only have two teachers!)\n",
    "* General model -- Leave one situation out: train on data for two teachers, but leave all the sessions for one kind of situation out\n",
    "* Personalized model -- Leave one session out: train on data for one teacher, but leave one session out\n",
    "* Personalized model -- Leave one situation out: train on data for one teacher, but leave one kind of situation out (can only be done with teacher 2)"
   ]
  },
  {
   "cell_type": "markdown",
   "metadata": {
    "collapsed": true
   },
   "source": [
    "# Dataset overview\n",
    "\n",
    "Both the training and testing datasets have the following general structure:\n",
    "\n",
    "* ''Rows'' represent the features of each 10s window (overlapping/sliding 5s), ordered by `session` ID and its `timestamp` (in ms)\n",
    "\n",
    "* ''Columns'' are the features themselves (they have more-or-less-cryptic column names), up to 7559 of them!\n",
    "    * [,1]: ''session id''\n",
    "    * [,2]: ''timestamp'' within the session (in ms)\n",
    "    * [,3:12]: ''eyetracking'' features (mean/sd pupil diameter, nr. of long fixations, avg. saccade speed, fixation duration, fixation dispersion, saccade duration, saccade amplitude, saccade length, saccade velocity)\n",
    "    * [,13:152]: ''accelerometer'' features, including X, Y, Z (mean, sd, max, min, median, and 30 FFT coefficients of each of them) and jerk (mean, sd, max, min, median, and 30 FFT coefficients of each of it)\n",
    "    * [,153:6557]: ''audio'' features extracted from an audio snippet of the 10s window, using openSMILE. Includes features about whether there is someone speaking (153:163), emotion recognition models (164:184), and brute-force audio spectrum features and characteristics used in various audio recognition challenges/tasks (185:6557)\n",
    "    * [,6558:7559]: ''video'' features extracted from an image taken in the middle of the window (the 1000 values of the last layer when passing the immage through a VGG pre-trained model)\n",
    "    "
   ]
  },
  {
   "cell_type": "markdown",
   "metadata": {
    "collapsed": true
   },
   "source": [
    "# A basic benchmark: Random Forest\n",
    "\n",
    "Since RF performed quite well in most cases for our LAK paper dataset, let's try it on the whole dataset and see what comes out, as a baseline for modelling accuracy. In principle, we are using AUC (area under the ROC curve) as the main metric for model comparison\n",
    "\n",
    "## Teacher activity\n"
   ]
  },
  {
   "cell_type": "code",
   "execution_count": null,
   "metadata": {
    "collapsed": false
   },
   "outputs": [],
   "source": [
    "# Separate the target values (Activity and Social) from features, etc.\n",
    "X_train = train[:,3:7558].astype(float)\n",
    "Y_trainA = train[:,7558] #Activity\n",
    "Y_trainS = train[:,7559] #Social\n",
    "X_test = test[:,3:7558].astype(float)\n",
    "Y_testA = test[:,7558]\n",
    "Y_testS = test[:,7559]\n",
    "# feature_names of X\n",
    "feature_names = names[3:7558]\n",
    "idx_eyetracking = range(0,10)\n",
    "idx_acc = range(10,150)\n",
    "idx_audio = range(150,6555)\n",
    "idx_video = range(6555,7555)\n",
    "#print feature_names[idx_video]"
   ]
  }
 ],
 "metadata": {
  "kernelspec": {
   "display_name": "Python 2",
   "language": "python",
   "name": "python2"
  },
  "language_info": {
   "codemirror_mode": {
    "name": "ipython",
    "version": 2
   },
   "file_extension": ".py",
   "mimetype": "text/x-python",
   "name": "python",
   "nbconvert_exporter": "python",
   "pygments_lexer": "ipython2",
   "version": "2.7.6"
  }
 },
 "nbformat": 4,
 "nbformat_minor": 1
}
